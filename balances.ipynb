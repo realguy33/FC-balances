{
 "cells": [
  {
   "cell_type": "markdown",
   "metadata": {},
   "source": [
    "# Aggregate dollar values of crypto assets (\"dry powder\") held in all protocol-linked addresses\n",
    "\n",
    "This uses Dune's Echo API. The query can take several hours to run so it can be run in smaller batches too. It currently checks for all the EVM chains supported by the API. Solana support in the echo API is currently in Beta(that will be added soon too).\n",
    "The reason i am using this API is because i have found it to be far more reliable than dune's prices tables. "
   ]
  },
  {
   "cell_type": "code",
   "execution_count": null,
   "metadata": {},
   "outputs": [],
   "source": [
    "import pandas as pd\n",
    "import requests \n",
    "import csv \n",
    "import warnings\n",
    "from concurrent.futures import ThreadPoolExecutor\n",
    "# importing some basic libraries "
   ]
  },
  {
   "cell_type": "code",
   "execution_count": null,
   "metadata": {},
   "outputs": [],
   "source": [
    "# make sure to \"pip install dune-client\" before running this\n",
    "from dune_client.client import DuneClient \n",
    "dune = DuneClient(\"API_KEY\")\n",
    "query_result = dune.get_latest_result(4707829) # please remember to refresh this query for the latest results"
   ]
  },
  {
   "cell_type": "code",
   "execution_count": null,
   "metadata": {},
   "outputs": [],
   "source": [
    "addy = dune.get_latest_result_dataframe(4707829)\n",
    "test = addy['_col0'].tolist() # getting all the EVM addresses connected to FC accounts\n",
    "unique_count = addy['fid'].nunique() # finding unique number of FIDs because a single FID can have mulitple address\n",
    "print(\"number of unique FiDS -\", unique_count)"
   ]
  },
  {
   "cell_type": "markdown",
   "metadata": {},
   "source": [
    "Note that you can divide the 'test' into smaller lists to do it easily using small batches"
   ]
  },
  {
   "cell_type": "markdown",
   "metadata": {},
   "source": [
    "# Main process"
   ]
  },
  {
   "cell_type": "markdown",
   "metadata": {},
   "source": [
    "# Method 1 \n",
    "This method was optimized a bit with the help of LLMs"
   ]
  },
  {
   "cell_type": "code",
   "execution_count": null,
   "metadata": {},
   "outputs": [],
   "source": [
    "API_KEY = \"API_KEY\"\n",
    "BASE_URL = \"https://api.dune.com/api/beta/balance/\"\n",
    "HEADERS = {\"X-Dune-Api-Key\": API_KEY}\n",
    "QUERYSTRING = {\"filters\": \"native\"}\n"
   ]
  },
  {
   "cell_type": "code",
   "execution_count": null,
   "metadata": {},
   "outputs": [],
   "source": [
    "def is_dataframe_not_empty(df):\n",
    "    return not df.empty"
   ]
  },
  {
   "cell_type": "code",
   "execution_count": null,
   "metadata": {},
   "outputs": [],
   "source": [
    "def fetch_balance(address):\n",
    "    \"\"\"Fetch balance data from API for a single address.\"\"\"\n",
    "    url = BASE_URL + address\n",
    "    response = requests.get(url, headers=HEADERS)\n",
    "    \n",
    "    if response.status_code == 200:\n",
    "        data = response.json()\n",
    "        res = data.get(\"balances\", [])\n",
    "        if res:\n",
    "            df = pd.DataFrame(res)\n",
    "            if is_dataframe_not_empty(df):\n",
    "                if 'value_usd' in df.columns:\n",
    "                    if 'low_liquidity' not in df.columns:\n",
    "                        return df['value_usd'].sum()\n",
    "    return 0"
   ]
  },
  {
   "cell_type": "code",
   "execution_count": null,
   "metadata": {},
   "outputs": [],
   "source": [
    "sum_value = 0\n",
    "\n",
    "with ThreadPoolExecutor(max_workers=10) as executor:  # Adjust workers as needed\n",
    "        results = list(executor.map(fetch_balance, test))\n",
    "\n",
    "sum_value = sum(results)\n",
    "print(\"Total sum is:\", sum_value)"
   ]
  },
  {
   "cell_type": "code",
   "execution_count": null,
   "metadata": {},
   "outputs": [],
   "source": [
    "aval = sum_value/unique_count #\n",
    "print(\"the average value is:\", aval )"
   ]
  },
  {
   "cell_type": "markdown",
   "metadata": {},
   "source": []
  },
  {
   "cell_type": "markdown",
   "metadata": {},
   "source": [
    "# MEthod 2\n",
    "More accurate.\n",
    "Much slower\n",
    "Will need to restart the kernel and skip method 1 completely to avoid conflict"
   ]
  },
  {
   "cell_type": "code",
   "execution_count": null,
   "metadata": {},
   "outputs": [],
   "source": [
    "warnings.filterwarnings(\"ignore\", category=FutureWarning)\n",
    "sum_value = 0\n",
    "\n",
    "def is_dataframe_not_empty(df):\n",
    "    return not df.empty\n",
    "\n",
    "for i in range(len(test)):\n",
    "    print(\"on\",test[i])\n",
    "    url1 =\"https://api.dune.com/api/beta/balance/\"\n",
    "    url = url1 + test[i]\n",
    "    headers = {\"X-Dune-Api-Key\": \"p2TtjjyQnvsInPpLMqiIhFSlxhFGodxG\"}\n",
    "    querystring = {\"filters\":\"native\"}\n",
    "    response = requests.request(\"GET\", url, headers=headers)\n",
    "    if response.status_code == 200:\n",
    "        data = response.json()\n",
    "\n",
    "        res = data[\"balances\"]\n",
    "        df1 = pd.DataFrame(res)\n",
    "        if is_dataframe_not_empty(df1):\n",
    "            if 'value_usd' in df1.columns:\n",
    "                    if 'low_liquidity' not in df1.columns:\n",
    "                        print(df1)\n",
    "\n",
    "                        sum_value = sum_value + df1['value_usd'].sum()\n",
    "\n",
    "\n",
    "print(\"sum is\", sum_value)"
   ]
  },
  {
   "cell_type": "code",
   "execution_count": null,
   "metadata": {},
   "outputs": [],
   "source": [
    "aval = sum_value/unique_count #\n",
    "print(\"the average value is:\", aval )"
   ]
  }
 ],
 "metadata": {
  "kernelspec": {
   "display_name": "test",
   "language": "python",
   "name": "python3"
  },
  "language_info": {
   "name": "python",
   "version": "3.10.4"
  }
 },
 "nbformat": 4,
 "nbformat_minor": 2
}
